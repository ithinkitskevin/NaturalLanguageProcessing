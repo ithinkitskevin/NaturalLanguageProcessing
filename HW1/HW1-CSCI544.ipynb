{
 "cells": [
  {
   "cell_type": "code",
   "execution_count": 1,
   "metadata": {
    "colab": {
     "base_uri": "https://localhost:8080/"
    },
    "executionInfo": {
     "elapsed": 1486,
     "status": "ok",
     "timestamp": 1674372179115,
     "user": {
      "displayName": "Kevin Lee",
      "userId": "09476573521878606229"
     },
     "user_tz": 480
    },
    "id": "gWCBsS_QOkOs",
    "outputId": "918ae7c6-ba5d-41e4-83c5-614b7f2dc91d"
   },
   "outputs": [],
   "source": [
    "# from google.colab import drive\n",
    "# drive.mount('/content/drive')"
   ]
  },
  {
   "cell_type": "code",
   "execution_count": 1,
   "metadata": {
    "colab": {
     "base_uri": "https://localhost:8080/"
    },
    "executionInfo": {
     "elapsed": 29144,
     "status": "ok",
     "timestamp": 1674372208257,
     "user": {
      "displayName": "Kevin Lee",
      "userId": "09476573521878606229"
     },
     "user_tz": 480
    },
    "id": "cZSawCrzOgig",
    "outputId": "e6d771c8-bfb6-4b0f-a261-d6e32165f69e"
   },
   "outputs": [
    {
     "name": "stdout",
     "output_type": "stream",
     "text": [
      "Requirement already satisfied: bs4 in c:\\users\\jaehw\\anaconda3\\lib\\site-packages (0.0.1)\n",
      "Requirement already satisfied: beautifulsoup4 in c:\\users\\jaehw\\anaconda3\\lib\\site-packages (from bs4) (4.11.1)\n",
      "Requirement already satisfied: soupsieve>1.2 in c:\\users\\jaehw\\anaconda3\\lib\\site-packages (from beautifulsoup4->bs4) (2.3.1)\n",
      "Requirement already satisfied: contractions in c:\\users\\jaehw\\anaconda3\\lib\\site-packages (0.1.73)\n",
      "Requirement already satisfied: textsearch>=0.0.21 in c:\\users\\jaehw\\anaconda3\\lib\\site-packages (from contractions) (0.0.24)\n",
      "Requirement already satisfied: anyascii in c:\\users\\jaehw\\anaconda3\\lib\\site-packages (from textsearch>=0.0.21->contractions) (0.3.1)\n",
      "Requirement already satisfied: pyahocorasick in c:\\users\\jaehw\\anaconda3\\lib\\site-packages (from textsearch>=0.0.21->contractions) (2.0.0)\n"
     ]
    }
   ],
   "source": [
    "!pip install bs4\n",
    "!pip install contractions"
   ]
  },
  {
   "cell_type": "code",
   "execution_count": 2,
   "metadata": {
    "colab": {
     "base_uri": "https://localhost:8080/"
    },
    "executionInfo": {
     "elapsed": 4963,
     "status": "ok",
     "timestamp": 1674372213215,
     "user": {
      "displayName": "Kevin Lee",
      "userId": "09476573521878606229"
     },
     "user_tz": 480
    },
    "id": "mhxZTUmTOgif",
    "outputId": "db937526-90ed-4f4b-bd69-7299014dd99d"
   },
   "outputs": [
    {
     "name": "stderr",
     "output_type": "stream",
     "text": [
      "[nltk_data] Downloading package averaged_perceptron_tagger to\n",
      "[nltk_data]     C:\\Users\\jaehw\\AppData\\Roaming\\nltk_data...\n",
      "[nltk_data]   Package averaged_perceptron_tagger is already up-to-\n",
      "[nltk_data]       date!\n",
      "[nltk_data] Downloading package wordnet to\n",
      "[nltk_data]     C:\\Users\\jaehw\\AppData\\Roaming\\nltk_data...\n",
      "[nltk_data]   Package wordnet is already up-to-date!\n",
      "[nltk_data] Downloading package punkt to\n",
      "[nltk_data]     C:\\Users\\jaehw\\AppData\\Roaming\\nltk_data...\n",
      "[nltk_data]   Package punkt is already up-to-date!\n",
      "[nltk_data] Downloading package stopwords to\n",
      "[nltk_data]     C:\\Users\\jaehw\\AppData\\Roaming\\nltk_data...\n",
      "[nltk_data]   Package stopwords is already up-to-date!\n",
      "[nltk_data] Downloading package omw-1.4 to\n",
      "[nltk_data]     C:\\Users\\jaehw\\AppData\\Roaming\\nltk_data...\n",
      "[nltk_data]   Package omw-1.4 is already up-to-date!\n"
     ]
    }
   ],
   "source": [
    "import pandas as pd\n",
    "import numpy as np\n",
    "import re\n",
    "import contractions\n",
    "from collections import defaultdict\n",
    "\n",
    "from bs4 import BeautifulSoup\n",
    "\n",
    "from sklearn.preprocessing import LabelEncoder\n",
    "from sklearn.feature_extraction.text import TfidfVectorizer\n",
    "from sklearn.linear_model import Perceptron\n",
    "from sklearn.metrics import f1_score, classification_report\n",
    "from sklearn.model_selection import train_test_split\n",
    "from sklearn.linear_model import LogisticRegression, Perceptron\n",
    "from sklearn import model_selection, naive_bayes, svm\n",
    "from sklearn.metrics import accuracy_score\n",
    "\n",
    "import nltk\n",
    "from nltk.stem import WordNetLemmatizer\n",
    "from nltk.corpus import stopwords\n",
    "from nltk.corpus import wordnet as wn\n",
    "from nltk import pos_tag\n",
    "from nltk.tokenize import word_tokenize\n",
    "\n",
    "nltk.download('averaged_perceptron_tagger')\n",
    "nltk.download('wordnet')\n",
    "nltk.download('punkt')\n",
    "nltk.download('stopwords')\n",
    "nltk.download('omw-1.4')\n",
    "\n",
    "pd.options.display.max_colwidth = 500"
   ]
  },
  {
   "cell_type": "markdown",
   "metadata": {
    "id": "QPR8MG3KOgii"
   },
   "source": [
    "## Read Data"
   ]
  },
  {
   "cell_type": "code",
   "execution_count": 4,
   "metadata": {
    "colab": {
     "base_uri": "https://localhost:8080/"
    },
    "executionInfo": {
     "elapsed": 142435,
     "status": "ok",
     "timestamp": 1674372355647,
     "user": {
      "displayName": "Kevin Lee",
      "userId": "09476573521878606229"
     },
     "user_tz": 480
    },
    "id": "5l_0UbinOgij",
    "outputId": "2508220a-3c58-4102-9f9d-57823930bf51"
   },
   "outputs": [
    {
     "name": "stderr",
     "output_type": "stream",
     "text": [
      "C:\\Users\\jaehw\\AppData\\Local\\Temp\\ipykernel_252508\\1914733243.py:3: DtypeWarning: Columns (7) have mixed types. Specify dtype option on import or set low_memory=False.\n",
      "  df = pd.read_csv(base_path + \"amazon_reviews_us_Beauty_v1_00.tsv.gz\", compression='gzip', header=0,sep='\\t', quotechar='\"', on_bad_lines='skip')\n"
     ]
    }
   ],
   "source": [
    "base_path = \"\"\n",
    "\n",
    "df = pd.read_csv(base_path + \"amazon_reviews_us_Beauty_v1_00.tsv.gz\", compression='gzip', header=0,sep='\\t', quotechar='\"', on_bad_lines='skip')"
   ]
  },
  {
   "cell_type": "markdown",
   "metadata": {
    "id": "sAVbKx34Ogik"
   },
   "source": [
    "## Keep Reviews and Ratings"
   ]
  },
  {
   "cell_type": "code",
   "execution_count": 5,
   "metadata": {
    "colab": {
     "base_uri": "https://localhost:8080/",
     "height": 572
    },
    "collapsed": true,
    "executionInfo": {
     "elapsed": 3457,
     "status": "ok",
     "timestamp": 1674372359102,
     "user": {
      "displayName": "Kevin Lee",
      "userId": "09476573521878606229"
     },
     "user_tz": 480
    },
    "id": "XrB_Dx5cOgil",
    "outputId": "447eae88-dab4-48f7-a8fb-614d989ab2bf"
   },
   "outputs": [
    {
     "data": {
      "text/html": [
       "<div>\n",
       "<style scoped>\n",
       "    .dataframe tbody tr th:only-of-type {\n",
       "        vertical-align: middle;\n",
       "    }\n",
       "\n",
       "    .dataframe tbody tr th {\n",
       "        vertical-align: top;\n",
       "    }\n",
       "\n",
       "    .dataframe thead th {\n",
       "        text-align: right;\n",
       "    }\n",
       "</style>\n",
       "<table border=\"1\" class=\"dataframe\">\n",
       "  <thead>\n",
       "    <tr style=\"text-align: right;\">\n",
       "      <th></th>\n",
       "      <th>star_rating</th>\n",
       "      <th>review_headline</th>\n",
       "      <th>review_body</th>\n",
       "    </tr>\n",
       "  </thead>\n",
       "  <tbody>\n",
       "    <tr>\n",
       "      <th>0</th>\n",
       "      <td>5</td>\n",
       "      <td>Five Stars</td>\n",
       "      <td>Love this, excellent sun block!!</td>\n",
       "    </tr>\n",
       "    <tr>\n",
       "      <th>1</th>\n",
       "      <td>5</td>\n",
       "      <td>Thank you Alba Bontanica!</td>\n",
       "      <td>The great thing about this cream is that it doesn't smell weird like all those chemical laden ones.  I get a nice healthy un-fake looking tan that isn't orange and it makes my skin soft too.</td>\n",
       "    </tr>\n",
       "    <tr>\n",
       "      <th>2</th>\n",
       "      <td>5</td>\n",
       "      <td>Five Stars</td>\n",
       "      <td>Great Product, I'm 65 years old and this is all it claims to be!</td>\n",
       "    </tr>\n",
       "    <tr>\n",
       "      <th>3</th>\n",
       "      <td>5</td>\n",
       "      <td>GOOD DEAL!</td>\n",
       "      <td>I use them as shower caps &amp; conditioning caps. I like that they're in bulk. It saves a lot of money.</td>\n",
       "    </tr>\n",
       "    <tr>\n",
       "      <th>4</th>\n",
       "      <td>5</td>\n",
       "      <td>this soaks in quick and provides a nice base for makeup</td>\n",
       "      <td>This is my go-to daily sunblock. It leaves no white cast at all and has a clean, pleasant scent. If you're a makeup wearer, this soaks in quick and provides a nice base for makeup. I've been using this brand for over a year. With daily use, this tube will last you a couple months.</td>\n",
       "    </tr>\n",
       "    <tr>\n",
       "      <th>...</th>\n",
       "      <td>...</td>\n",
       "      <td>...</td>\n",
       "      <td>...</td>\n",
       "    </tr>\n",
       "    <tr>\n",
       "      <th>5094302</th>\n",
       "      <td>5</td>\n",
       "      <td>Great Little Grooming Tool</td>\n",
       "      <td>After watching my Dad struggle with his scissors to clip, what he affectionately calls his 'tuffs of ear hair'. I bought him this electric clippers...now we do we hear him mumble..and fuss about how he is certain he will cut off his ear someday.....This is a great invention...it moves at lightenind speed and clips those hairs neaty...... Great Price too!</td>\n",
       "    </tr>\n",
       "    <tr>\n",
       "      <th>5094303</th>\n",
       "      <td>3</td>\n",
       "      <td>Not bad for the price</td>\n",
       "      <td>Like most sound machines, the sounds choices are limited and most have a very noticeable cycle. The brook sound actually had a click at the end! However, the ocean and white noise had a good cycle.&lt;br /&gt;Unfortunately, only after a year, it broke. Now, I'm looking for a better one with more sounds.</td>\n",
       "    </tr>\n",
       "    <tr>\n",
       "      <th>5094304</th>\n",
       "      <td>5</td>\n",
       "      <td>Best Curling Iron Ever</td>\n",
       "      <td>I bought this product because it indicated 30 second heat up time.  It is great.  You plug it in, hit the on button, select a heat level (1-15) , and in less than 30 seconds it is hot.  No more waiting around for the iron to heat up.  Quick touch ups take no time at all. I'll never go back to the &amp;quot;old style&amp;quot; plug and wait.</td>\n",
       "    </tr>\n",
       "    <tr>\n",
       "      <th>5094305</th>\n",
       "      <td>5</td>\n",
       "      <td>The best electric toothbrush ever, REALLY!</td>\n",
       "      <td>We have used Oral-B products for 15 years; this new model is even better.  It is stronger yet thinner; generates different vibrations (3) around the toothbrush head and varies this according to pressure.  Also has a built-in timer.  Enjoy!</td>\n",
       "    </tr>\n",
       "    <tr>\n",
       "      <th>5094306</th>\n",
       "      <td>5</td>\n",
       "      <td>Smooth and shiny teeth!</td>\n",
       "      <td>I love this toothbrush. It's easy to use, and it trains aggressive brushers (read: Type As) to treat their gums with a little more TLC. Your teeth feel cleaner longer after using a sonicare. It's almost like getting a full dental cleaning every time you brush.</td>\n",
       "    </tr>\n",
       "  </tbody>\n",
       "</table>\n",
       "<p>5093876 rows × 3 columns</p>\n",
       "</div>"
      ],
      "text/plain": [
       "        star_rating                                          review_headline  \\\n",
       "0                 5                                               Five Stars   \n",
       "1                 5                                Thank you Alba Bontanica!   \n",
       "2                 5                                               Five Stars   \n",
       "3                 5                                               GOOD DEAL!   \n",
       "4                 5  this soaks in quick and provides a nice base for makeup   \n",
       "...             ...                                                      ...   \n",
       "5094302           5                               Great Little Grooming Tool   \n",
       "5094303           3                                    Not bad for the price   \n",
       "5094304           5                                   Best Curling Iron Ever   \n",
       "5094305           5               The best electric toothbrush ever, REALLY!   \n",
       "5094306           5                                  Smooth and shiny teeth!   \n",
       "\n",
       "                                                                                                                                                                                                                                                                                                                                                                  review_body  \n",
       "0                                                                                                                                                                                                                                                                                                                                            Love this, excellent sun block!!  \n",
       "1                                                                                                                                                                              The great thing about this cream is that it doesn't smell weird like all those chemical laden ones.  I get a nice healthy un-fake looking tan that isn't orange and it makes my skin soft too.  \n",
       "2                                                                                                                                                                                                                                                                                                            Great Product, I'm 65 years old and this is all it claims to be!  \n",
       "3                                                                                                                                                                                                                                                                        I use them as shower caps & conditioning caps. I like that they're in bulk. It saves a lot of money.  \n",
       "4                                                                                   This is my go-to daily sunblock. It leaves no white cast at all and has a clean, pleasant scent. If you're a makeup wearer, this soaks in quick and provides a nice base for makeup. I've been using this brand for over a year. With daily use, this tube will last you a couple months.  \n",
       "...                                                                                                                                                                                                                                                                                                                                                                       ...  \n",
       "5094302  After watching my Dad struggle with his scissors to clip, what he affectionately calls his 'tuffs of ear hair'. I bought him this electric clippers...now we do we hear him mumble..and fuss about how he is certain he will cut off his ear someday.....This is a great invention...it moves at lightenind speed and clips those hairs neaty...... Great Price too!  \n",
       "5094303                                                            Like most sound machines, the sounds choices are limited and most have a very noticeable cycle. The brook sound actually had a click at the end! However, the ocean and white noise had a good cycle.<br />Unfortunately, only after a year, it broke. Now, I'm looking for a better one with more sounds.  \n",
       "5094304                        I bought this product because it indicated 30 second heat up time.  It is great.  You plug it in, hit the on button, select a heat level (1-15) , and in less than 30 seconds it is hot.  No more waiting around for the iron to heat up.  Quick touch ups take no time at all. I'll never go back to the &quot;old style&quot; plug and wait.  \n",
       "5094305                                                                                                                       We have used Oral-B products for 15 years; this new model is even better.  It is stronger yet thinner; generates different vibrations (3) around the toothbrush head and varies this according to pressure.  Also has a built-in timer.  Enjoy!  \n",
       "5094306                                                                                                  I love this toothbrush. It's easy to use, and it trains aggressive brushers (read: Type As) to treat their gums with a little more TLC. Your teeth feel cleaner longer after using a sonicare. It's almost like getting a full dental cleaning every time you brush.  \n",
       "\n",
       "[5093876 rows x 3 columns]"
      ]
     },
     "execution_count": 5,
     "metadata": {},
     "output_type": "execute_result"
    }
   ],
   "source": [
    "parsed_df = df[[\"star_rating\", \"review_headline\", \"review_body\"]]\n",
    "parsed_df.dropna()"
   ]
  },
  {
   "cell_type": "markdown",
   "metadata": {
    "id": "tkLKJzJAOgil"
   },
   "source": [
    " ## We form three classes and select 20000 reviews randomly from each class.\n"
   ]
  },
  {
   "cell_type": "code",
   "execution_count": 7,
   "metadata": {
    "id": "bY9eI-eHOgim"
   },
   "outputs": [],
   "source": [
    "class1_df = parsed_df.loc[parsed_df['star_rating'].isin([1,2])].sample(20000)\n",
    "class2_df = parsed_df.loc[parsed_df['star_rating'] == 3].sample(20000)\n",
    "class3_df = parsed_df.loc[parsed_df['star_rating'].isin([4,5])].sample(20000)"
   ]
  },
  {
   "cell_type": "code",
   "execution_count": 8,
   "metadata": {
    "id": "3-lMqTr13qIT"
   },
   "outputs": [],
   "source": [
    "class1_df[\"class\"] = 1\n",
    "class2_df[\"class\"] = 2\n",
    "class3_df[\"class\"] = 3"
   ]
  },
  {
   "cell_type": "code",
   "execution_count": 9,
   "metadata": {
    "id": "oktkperN8xsN"
   },
   "outputs": [],
   "source": [
    "final_df = pd.concat([class1_df, class2_df, class3_df])\n",
    "\n",
    "final_df['review_headline'] = final_df['review_headline'].apply(str)\n",
    "final_df['review_body'] = final_df['review_body'].apply(str)"
   ]
  },
  {
   "cell_type": "code",
   "execution_count": 50,
   "metadata": {},
   "outputs": [],
   "source": [
    "final_df = pd.read_pickle(\"./finaldf.pkl\") # Use this as no constant sample (forgot)"
   ]
  },
  {
   "cell_type": "code",
   "execution_count": 51,
   "metadata": {
    "id": "54Fgv27NAyCu"
   },
   "outputs": [],
   "source": [
    "final_df['review'] = final_df[['review_headline', 'review_body']].agg(' '.join, axis=1)"
   ]
  },
  {
   "cell_type": "code",
   "execution_count": 52,
   "metadata": {
    "id": "xYyXhK_a9B0p"
   },
   "outputs": [],
   "source": [
    "final_df = final_df.drop('star_rating', axis=1)\n",
    "final_df = final_df.drop('review_headline', axis=1)\n",
    "final_df = final_df.drop('review_body', axis=1)"
   ]
  },
  {
   "cell_type": "markdown",
   "metadata": {
    "id": "cLX2LKJqOgim"
   },
   "source": [
    "# Data Cleaning\n"
   ]
  },
  {
   "cell_type": "markdown",
   "metadata": {
    "id": "JeJZZKpbOgim"
   },
   "source": [
    "# Pre-processing"
   ]
  },
  {
   "cell_type": "code",
   "execution_count": 53,
   "metadata": {
    "id": "AKEgQuWIOgin"
   },
   "outputs": [],
   "source": [
    "# Lowercasing\n",
    "final_df[\"review\"] = final_df[\"review\"].str.lower()"
   ]
  },
  {
   "cell_type": "code",
   "execution_count": 54,
   "metadata": {
    "id": "dWFKHEvI_Icc"
   },
   "outputs": [],
   "source": [
    "# class1_df[class1_df[\"review_body\"].str.contains(\"1\", na=False)]\n",
    "def getRidOfNonAlphabet(s):\n",
    "  return re.sub(r\"[^a-zA-Z]+\", ' ', s)\n",
    "\n",
    "def getRidOfHTML(s):\n",
    "  return BeautifulSoup(s, \"lxml\").text\n",
    "\n",
    "def getRidOfURL(s):\n",
    "  return re.sub(r'http\\S+', '', s)\n",
    "\n",
    "def contractions(s):\n",
    "  # Also gets rid of extra spaces\n",
    "  import contractions\n",
    "  ans = []\n",
    "  for word in s.split():\n",
    "    ans.append(contractions.fix(word))\n",
    "  return ' '.join(ans)"
   ]
  },
  {
   "cell_type": "code",
   "execution_count": 55,
   "metadata": {
    "id": "GeO8AQLccsZ6"
   },
   "outputs": [
    {
     "name": "stderr",
     "output_type": "stream",
     "text": [
      "C:\\Users\\jaehw\\anaconda3\\lib\\site-packages\\bs4\\__init__.py:435: MarkupResemblesLocatorWarning: The input looks more like a filename than markup. You may want to open this file and pass the filehandle into Beautiful Soup.\n",
      "  warnings.warn(\n"
     ]
    }
   ],
   "source": [
    "final_df[\"review\"] = final_df[\"review\"].apply(getRidOfURL).apply(getRidOfHTML).apply(contractions).apply(getRidOfNonAlphabet)"
   ]
  },
  {
   "cell_type": "code",
   "execution_count": 44,
   "metadata": {},
   "outputs": [
    {
     "name": "stdout",
     "output_type": "stream",
     "text": [
      "Cleaned Review Body Avg Character Count 303.84655\n"
     ]
    }
   ],
   "source": [
    "print(\"Cleaned Review Body Avg Character Count\",(final_df['review'].str.len()).mean())"
   ]
  },
  {
   "cell_type": "markdown",
   "metadata": {
    "id": "nGpZkwsfOgin"
   },
   "source": [
    "## remove the stop words "
   ]
  },
  {
   "cell_type": "code",
   "execution_count": 45,
   "metadata": {
    "id": "qXXLxltTOgip"
   },
   "outputs": [],
   "source": [
    "def getRidOfStopWords(s):\n",
    "  stopWords = set(stopwords.words('english'))\n",
    "  words = word_tokenize(s)\n",
    "  filteredWords = []\n",
    "  for word in words:\n",
    "      if word not in stopWords:\n",
    "          filteredWords.append(word)\n",
    "  return ' '.join(filteredWords)"
   ]
  },
  {
   "cell_type": "code",
   "execution_count": 46,
   "metadata": {
    "id": "oDE4bHHGexwm"
   },
   "outputs": [],
   "source": [
    "final_df[\"review\"] = final_df[\"review\"].apply(getRidOfStopWords)"
   ]
  },
  {
   "cell_type": "markdown",
   "metadata": {
    "id": "n7nOfbqQOgip"
   },
   "source": [
    "## perform lemmatization  "
   ]
  },
  {
   "cell_type": "code",
   "execution_count": 56,
   "metadata": {
    "id": "aB8Ws6C5Ogiq"
   },
   "outputs": [],
   "source": [
    "def lemmatize(s):\n",
    "  lemmatizer = WordNetLemmatizer()\n",
    "  words = word_tokenize(s)\n",
    "    \n",
    "  filteredWords = []\n",
    "  for word in words:\n",
    "      filteredWords.append(lemmatizer.lemmatize(word))\n",
    "  return ' '.join(filteredWords)\n",
    "\n",
    "def lemattizeWithDict(l):\n",
    "  lemmatizer = WordNetLemmatizer()\n",
    "\n",
    "  tags = defaultdict(lambda : wn.NOUN)\n",
    "  tags['J'] = wn.ADJ\n",
    "  tags['V'] = wn.VERB\n",
    "  tags['R'] = wn.ADV\n",
    "\n",
    "  words = []\n",
    "  for word, t in pos_tag(l.split()):\n",
    "      if word not in stopwords.words('english'):\n",
    "          words.append(lemmatizer.lemmatize(word, tags[t[0]]))\n",
    "  return str(' '.join(words))"
   ]
  },
  {
   "cell_type": "code",
   "execution_count": 57,
   "metadata": {
    "id": "MQn4Pzobfz1V"
   },
   "outputs": [],
   "source": [
    "final_df[\"formatted_review\"] = final_df[\"review\"].apply(lemmatize)"
   ]
  },
  {
   "cell_type": "markdown",
   "metadata": {
    "id": "otmNW0ybOgiq"
   },
   "source": [
    "# TF-IDF Feature Extraction"
   ]
  },
  {
   "cell_type": "code",
   "execution_count": 1,
   "metadata": {},
   "outputs": [
    {
     "ename": "NameError",
     "evalue": "name 'train_test_split' is not defined",
     "output_type": "error",
     "traceback": [
      "\u001b[1;31m---------------------------------------------------------------------------\u001b[0m",
      "\u001b[1;31mNameError\u001b[0m                                 Traceback (most recent call last)",
      "\u001b[1;32m~\\AppData\\Local\\Temp\\ipykernel_6580\\1138079695.py\u001b[0m in \u001b[0;36m<module>\u001b[1;34m\u001b[0m\n\u001b[0;32m      1\u001b[0m \u001b[1;31m# final_df = pd.read_pickle(\"./final_final_df.pkl\")\u001b[0m\u001b[1;33m\u001b[0m\u001b[1;33m\u001b[0m\u001b[0m\n\u001b[0;32m      2\u001b[0m \u001b[1;33m\u001b[0m\u001b[0m\n\u001b[1;32m----> 3\u001b[1;33m \u001b[0mtrain_x\u001b[0m\u001b[1;33m,\u001b[0m \u001b[0mtest_x\u001b[0m\u001b[1;33m,\u001b[0m \u001b[0mtrain_y\u001b[0m\u001b[1;33m,\u001b[0m \u001b[0mtest_y\u001b[0m \u001b[1;33m=\u001b[0m \u001b[0mtrain_test_split\u001b[0m\u001b[1;33m(\u001b[0m\u001b[0mfinal_df\u001b[0m\u001b[1;33m[\u001b[0m\u001b[1;34m'formatted_review'\u001b[0m\u001b[1;33m]\u001b[0m\u001b[1;33m,\u001b[0m \u001b[0mfinal_df\u001b[0m\u001b[1;33m[\u001b[0m\u001b[1;34m'class'\u001b[0m\u001b[1;33m]\u001b[0m\u001b[1;33m,\u001b[0m \u001b[0mtest_size\u001b[0m\u001b[1;33m=\u001b[0m\u001b[1;36m0.2\u001b[0m\u001b[1;33m,\u001b[0m \u001b[0mrandom_state\u001b[0m\u001b[1;33m=\u001b[0m\u001b[1;36m42\u001b[0m\u001b[1;33m)\u001b[0m\u001b[1;33m\u001b[0m\u001b[1;33m\u001b[0m\u001b[0m\n\u001b[0m\u001b[0;32m      4\u001b[0m \u001b[1;33m\u001b[0m\u001b[0m\n\u001b[0;32m      5\u001b[0m \u001b[0mvectorizer\u001b[0m \u001b[1;33m=\u001b[0m \u001b[0mTfidfVectorizer\u001b[0m\u001b[1;33m(\u001b[0m\u001b[1;33m)\u001b[0m\u001b[1;33m\u001b[0m\u001b[1;33m\u001b[0m\u001b[0m\n",
      "\u001b[1;31mNameError\u001b[0m: name 'train_test_split' is not defined"
     ]
    }
   ],
   "source": [
    "# final_df = pd.read_pickle(\"./final_final_df.pkl\")\n",
    "\n",
    "train_x, test_x, train_y, test_y = train_test_split(final_df['formatted_review'], final_df['class'], test_size=0.2, random_state=42)\n",
    "\n",
    "vectorizer = TfidfVectorizer(ngram_range=(1,3))\n",
    "vectorizer.fit(final_df['formatted_review'])\n",
    "train_tfidf = vectorizer.transform(train_x)\n",
    "test_tfidf = vectorizer.transform(test_x)\n",
    "\n",
    "Encoder = LabelEncoder()\n",
    "train_result = Encoder.fit_transform(train_y)\n",
    "test_result = Encoder.fit_transform(test_y)"
   ]
  },
  {
   "cell_type": "markdown",
   "metadata": {
    "id": "zsdCTPYQOgir"
   },
   "source": [
    "# Perceptron"
   ]
  },
  {
   "cell_type": "code",
   "execution_count": 17,
   "metadata": {
    "colab": {
     "base_uri": "https://localhost:8080/"
    },
    "executionInfo": {
     "elapsed": 1333,
     "status": "ok",
     "timestamp": 1674373156386,
     "user": {
      "displayName": "Kevin Lee",
      "userId": "09476573521878606229"
     },
     "user_tz": 480
    },
    "id": "vvoXcOwTN69t",
    "outputId": "5b7a6de2-6768-4671-88a1-3770dfd69ac4"
   },
   "outputs": [
    {
     "name": "stdout",
     "output_type": "stream",
     "text": [
      "              precision    recall  f1-score   support\n",
      "\n",
      "           0       0.79      0.80      0.80      3963\n",
      "           1       0.72      0.72      0.72      4014\n",
      "           2       0.86      0.86      0.86      4023\n",
      "\n",
      "    accuracy                           0.79     12000\n",
      "   macro avg       0.79      0.79      0.79     12000\n",
      "weighted avg       0.79      0.79      0.79     12000\n",
      "\n"
     ]
    }
   ],
   "source": [
    "perceptron = Perceptron(random_state=486)\n",
    "perceptron.fit(train_tfidf, train_result)\n",
    "result = perceptron.predict(test_tfidf)\n",
    "report = classification_report(test_result, result)\n",
    "print(report)"
   ]
  },
  {
   "cell_type": "markdown",
   "metadata": {
    "id": "8Zf06CCNOgir"
   },
   "source": [
    "# SVM"
   ]
  },
  {
   "cell_type": "code",
   "execution_count": 24,
   "metadata": {
    "colab": {
     "background_save": true
    },
    "id": "R5-mU_xtOgir",
    "outputId": "0028717d-59d8-4446-aa6a-7acf26eda2d2"
   },
   "outputs": [
    {
     "name": "stdout",
     "output_type": "stream",
     "text": [
      "              precision    recall  f1-score   support\n",
      "\n",
      "           0       0.79      0.82      0.81      3963\n",
      "           1       0.75      0.71      0.73      4014\n",
      "           2       0.87      0.87      0.87      4023\n",
      "\n",
      "    accuracy                           0.80     12000\n",
      "   macro avg       0.80      0.80      0.80     12000\n",
      "weighted avg       0.80      0.80      0.80     12000\n",
      "\n"
     ]
    }
   ],
   "source": [
    "model = svm.LinearSVC()\n",
    "model.fit(train_tfidf, train_result)\n",
    "result = model.predict(test_tfidf)\n",
    "report = classification_report(test_result, result)\n",
    "print(report)"
   ]
  },
  {
   "cell_type": "markdown",
   "metadata": {
    "id": "y3-IHckGOgis"
   },
   "source": [
    "# Logistic Regression"
   ]
  },
  {
   "cell_type": "code",
   "execution_count": 27,
   "metadata": {},
   "outputs": [
    {
     "name": "stdout",
     "output_type": "stream",
     "text": [
      "              precision    recall  f1-score   support\n",
      "\n",
      "           0       0.79      0.81      0.80      3963\n",
      "           1       0.73      0.72      0.73      4014\n",
      "           2       0.87      0.85      0.86      4023\n",
      "\n",
      "    accuracy                           0.80     12000\n",
      "   macro avg       0.80      0.80      0.80     12000\n",
      "weighted avg       0.80      0.80      0.80     12000\n",
      "\n"
     ]
    },
    {
     "name": "stderr",
     "output_type": "stream",
     "text": [
      "C:\\Users\\jaehw\\anaconda3\\lib\\site-packages\\sklearn\\linear_model\\_logistic.py:814: ConvergenceWarning: lbfgs failed to converge (status=1):\n",
      "STOP: TOTAL NO. of ITERATIONS REACHED LIMIT.\n",
      "\n",
      "Increase the number of iterations (max_iter) or scale the data as shown in:\n",
      "    https://scikit-learn.org/stable/modules/preprocessing.html\n",
      "Please also refer to the documentation for alternative solver options:\n",
      "    https://scikit-learn.org/stable/modules/linear_model.html#logistic-regression\n",
      "  n_iter_i = _check_optimize_result(\n"
     ]
    }
   ],
   "source": [
    "model = LogisticRegression()\n",
    "model.fit(train_tfidf, train_result)\n",
    "result = model.predict(test_tfidf)\n",
    "report = classification_report(test_result, result)\n",
    "print(report)"
   ]
  },
  {
   "cell_type": "markdown",
   "metadata": {
    "id": "69UqlGEWOgis"
   },
   "source": [
    "# Naive Bayes"
   ]
  },
  {
   "cell_type": "code",
   "execution_count": 18,
   "metadata": {
    "id": "V23foc_kOgit",
    "scrolled": true
   },
   "outputs": [
    {
     "name": "stdout",
     "output_type": "stream",
     "text": [
      "              precision    recall  f1-score   support\n",
      "\n",
      "           0       0.78      0.79      0.79      3963\n",
      "           1       0.68      0.79      0.73      4014\n",
      "           2       0.93      0.77      0.84      4023\n",
      "\n",
      "    accuracy                           0.78     12000\n",
      "   macro avg       0.80      0.78      0.79     12000\n",
      "weighted avg       0.80      0.78      0.79     12000\n",
      "\n"
     ]
    }
   ],
   "source": [
    "model = naive_bayes.MultinomialNB()\n",
    "model.fit(train_tfidf, train_result)\n",
    "result = model.predict(test_tfidf)\n",
    "report = classification_report(test_result, result)\n",
    "print(report)"
   ]
  }
 ],
 "metadata": {
  "colab": {
   "provenance": []
  },
  "kernelspec": {
   "display_name": "Python 3 (ipykernel)",
   "language": "python",
   "name": "python3"
  },
  "language_info": {
   "codemirror_mode": {
    "name": "ipython",
    "version": 3
   },
   "file_extension": ".py",
   "mimetype": "text/x-python",
   "name": "python",
   "nbconvert_exporter": "python",
   "pygments_lexer": "ipython3",
   "version": "3.9.13"
  }
 },
 "nbformat": 4,
 "nbformat_minor": 1
}
